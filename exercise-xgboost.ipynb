{
 "cells": [
  {
   "cell_type": "markdown",
   "id": "17f98588",
   "metadata": {
    "papermill": {
     "duration": 0.005506,
     "end_time": "2022-11-02T22:30:51.464193",
     "exception": false,
     "start_time": "2022-11-02T22:30:51.458687",
     "status": "completed"
    },
    "tags": []
   },
   "source": [
    "**This notebook is an exercise in the [Intermediate Machine Learning](https://www.kaggle.com/learn/intermediate-machine-learning) course.  You can reference the tutorial at [this link](https://www.kaggle.com/alexisbcook/xgboost).**\n",
    "\n",
    "---\n"
   ]
  },
  {
   "cell_type": "markdown",
   "id": "3dabeea0",
   "metadata": {
    "papermill": {
     "duration": 0.004172,
     "end_time": "2022-11-02T22:30:51.472954",
     "exception": false,
     "start_time": "2022-11-02T22:30:51.468782",
     "status": "completed"
    },
    "tags": []
   },
   "source": [
    "In this exercise, you will use your new knowledge to train a model with **gradient boosting**.\n",
    "\n",
    "# Setup\n",
    "\n",
    "The questions below will give you feedback on your work. Run the following cell to set up the feedback system."
   ]
  },
  {
   "cell_type": "code",
   "execution_count": 1,
   "id": "f5add83d",
   "metadata": {
    "execution": {
     "iopub.execute_input": "2022-11-02T22:30:51.484296Z",
     "iopub.status.busy": "2022-11-02T22:30:51.483766Z",
     "iopub.status.idle": "2022-11-02T22:30:53.949794Z",
     "shell.execute_reply": "2022-11-02T22:30:53.948405Z"
    },
    "papermill": {
     "duration": 2.4761,
     "end_time": "2022-11-02T22:30:53.953476",
     "exception": false,
     "start_time": "2022-11-02T22:30:51.477376",
     "status": "completed"
    },
    "tags": []
   },
   "outputs": [
    {
     "name": "stdout",
     "output_type": "stream",
     "text": [
      "Setup Complete\n"
     ]
    }
   ],
   "source": [
    "# Set up code checking\n",
    "import os\n",
    "if not os.path.exists(\"../input/train.csv\"):\n",
    "    os.symlink(\"../input/home-data-for-ml-course/train.csv\", \"../input/train.csv\")  \n",
    "    os.symlink(\"../input/home-data-for-ml-course/test.csv\", \"../input/test.csv\") \n",
    "from learntools.core import binder\n",
    "binder.bind(globals())\n",
    "from learntools.ml_intermediate.ex6 import *\n",
    "print(\"Setup Complete\")"
   ]
  },
  {
   "cell_type": "markdown",
   "id": "bdeeffc1",
   "metadata": {
    "papermill": {
     "duration": 0.006041,
     "end_time": "2022-11-02T22:30:53.965175",
     "exception": false,
     "start_time": "2022-11-02T22:30:53.959134",
     "status": "completed"
    },
    "tags": []
   },
   "source": [
    "You will work with the [Housing Prices Competition for Kaggle Learn Users](https://www.kaggle.com/c/home-data-for-ml-course) dataset from the previous exercise. \n",
    "\n",
    "![Ames Housing dataset image](https://i.imgur.com/lTJVG4e.png)\n",
    "\n",
    "Run the next code cell without changes to load the training and validation sets in `X_train`, `X_valid`, `y_train`, and `y_valid`.  The test set is loaded in `X_test`."
   ]
  },
  {
   "cell_type": "code",
   "execution_count": 2,
   "id": "55de18ff",
   "metadata": {
    "execution": {
     "iopub.execute_input": "2022-11-02T22:30:53.978978Z",
     "iopub.status.busy": "2022-11-02T22:30:53.978294Z",
     "iopub.status.idle": "2022-11-02T22:30:54.137703Z",
     "shell.execute_reply": "2022-11-02T22:30:54.136700Z"
    },
    "papermill": {
     "duration": 0.168863,
     "end_time": "2022-11-02T22:30:54.140287",
     "exception": false,
     "start_time": "2022-11-02T22:30:53.971424",
     "status": "completed"
    },
    "tags": []
   },
   "outputs": [],
   "source": [
    "import pandas as pd\n",
    "from sklearn.model_selection import train_test_split\n",
    "\n",
    "# Read the data\n",
    "X = pd.read_csv('../input/train.csv', index_col='Id')\n",
    "X_test_full = pd.read_csv('../input/test.csv', index_col='Id')\n",
    "\n",
    "# Remove rows with missing target, separate target from predictors\n",
    "X.dropna(axis=0, subset=['SalePrice'], inplace=True)\n",
    "y = X.SalePrice              \n",
    "X.drop(['SalePrice'], axis=1, inplace=True)\n",
    "\n",
    "# Break off validation set from training data\n",
    "X_train_full, X_valid_full, y_train, y_valid = train_test_split(X, y, train_size=0.8, test_size=0.2,\n",
    "                                                                random_state=0)\n",
    "\n",
    "# \"Cardinality\" means the number of unique values in a column\n",
    "# Select categorical columns with relatively low cardinality (convenient but arbitrary)\n",
    "low_cardinality_cols = [cname for cname in X_train_full.columns if X_train_full[cname].nunique() < 10 and \n",
    "                        X_train_full[cname].dtype == \"object\"]\n",
    "\n",
    "# Select numeric columns\n",
    "numeric_cols = [cname for cname in X_train_full.columns if X_train_full[cname].dtype in ['int64', 'float64']]\n",
    "\n",
    "# Keep selected columns only\n",
    "my_cols = low_cardinality_cols + numeric_cols\n",
    "X_train = X_train_full[my_cols].copy()\n",
    "X_valid = X_valid_full[my_cols].copy()\n",
    "X_test = X_test_full[my_cols].copy()\n",
    "\n",
    "# One-hot encode the data (to shorten the code, we use pandas)\n",
    "X_train = pd.get_dummies(X_train)\n",
    "X_valid = pd.get_dummies(X_valid)\n",
    "X_test = pd.get_dummies(X_test)\n",
    "X_train, X_valid = X_train.align(X_valid, join='left', axis=1)\n",
    "X_train, X_test = X_train.align(X_test, join='left', axis=1)"
   ]
  },
  {
   "cell_type": "markdown",
   "id": "2a4eaebe",
   "metadata": {
    "papermill": {
     "duration": 0.004733,
     "end_time": "2022-11-02T22:30:54.149792",
     "exception": false,
     "start_time": "2022-11-02T22:30:54.145059",
     "status": "completed"
    },
    "tags": []
   },
   "source": [
    "# Step 1: Build model\n",
    "\n",
    "### Part A\n",
    "\n",
    "In this step, you'll build and train your first model with gradient boosting.\n",
    "\n",
    "- Begin by setting `my_model_1` to an XGBoost model.  Use the [XGBRegressor](https://xgboost.readthedocs.io/en/latest/python/python_api.html#xgboost.XGBRegressor) class, and set the random seed to 0 (`random_state=0`).  **Leave all other parameters as default.**\n",
    "- Then, fit the model to the training data in `X_train` and `y_train`."
   ]
  },
  {
   "cell_type": "code",
   "execution_count": 3,
   "id": "a7c290a7",
   "metadata": {
    "execution": {
     "iopub.execute_input": "2022-11-02T22:30:54.162254Z",
     "iopub.status.busy": "2022-11-02T22:30:54.161840Z",
     "iopub.status.idle": "2022-11-02T22:30:54.975744Z",
     "shell.execute_reply": "2022-11-02T22:30:54.974003Z"
    },
    "papermill": {
     "duration": 0.82315,
     "end_time": "2022-11-02T22:30:54.978792",
     "exception": false,
     "start_time": "2022-11-02T22:30:54.155642",
     "status": "completed"
    },
    "tags": []
   },
   "outputs": [
    {
     "data": {
      "application/javascript": [
       "parent.postMessage({\"jupyterEvent\": \"custom.exercise_interaction\", \"data\": {\"outcomeType\": 1, \"valueTowardsCompletion\": 0.5, \"interactionType\": 1, \"questionType\": 2, \"questionId\": \"1.1_Model1A\", \"learnToolsVersion\": \"0.3.4\", \"failureMessage\": \"\", \"exceptionClass\": \"\", \"trace\": \"\"}}, \"*\")"
      ],
      "text/plain": [
       "<IPython.core.display.Javascript object>"
      ]
     },
     "metadata": {},
     "output_type": "display_data"
    },
    {
     "data": {
      "text/markdown": [
       "<span style=\"color:#33cc33\">Correct</span>"
      ],
      "text/plain": [
       "Correct"
      ]
     },
     "metadata": {},
     "output_type": "display_data"
    }
   ],
   "source": [
    "from xgboost import XGBRegressor\n",
    "\n",
    "# Define the model\n",
    "my_model_1 = XGBRegressor(random_state=0)\n",
    "\n",
    "# Fit the model\n",
    "my_model_1.fit(X_train, y_train)\n",
    "# Check your answer\n",
    "step_1.a.check()"
   ]
  },
  {
   "cell_type": "code",
   "execution_count": 4,
   "id": "446f8f99",
   "metadata": {
    "execution": {
     "iopub.execute_input": "2022-11-02T22:30:54.990689Z",
     "iopub.status.busy": "2022-11-02T22:30:54.990299Z",
     "iopub.status.idle": "2022-11-02T22:30:54.995165Z",
     "shell.execute_reply": "2022-11-02T22:30:54.994025Z"
    },
    "papermill": {
     "duration": 0.01279,
     "end_time": "2022-11-02T22:30:54.996933",
     "exception": false,
     "start_time": "2022-11-02T22:30:54.984143",
     "status": "completed"
    },
    "tags": []
   },
   "outputs": [],
   "source": [
    "# Lines below will give you a hint or solution code\n",
    "#step_1.a.hint()\n",
    "#step_1.a.solution()"
   ]
  },
  {
   "cell_type": "markdown",
   "id": "26e7ac73",
   "metadata": {
    "papermill": {
     "duration": 0.005139,
     "end_time": "2022-11-02T22:30:55.007026",
     "exception": false,
     "start_time": "2022-11-02T22:30:55.001887",
     "status": "completed"
    },
    "tags": []
   },
   "source": [
    "### Part B\n",
    "\n",
    "Set `predictions_1` to the model's predictions for the validation data.  Recall that the validation features are stored in `X_valid`."
   ]
  },
  {
   "cell_type": "code",
   "execution_count": 5,
   "id": "737fd369",
   "metadata": {
    "execution": {
     "iopub.execute_input": "2022-11-02T22:30:55.020319Z",
     "iopub.status.busy": "2022-11-02T22:30:55.019548Z",
     "iopub.status.idle": "2022-11-02T22:30:55.040032Z",
     "shell.execute_reply": "2022-11-02T22:30:55.039251Z"
    },
    "papermill": {
     "duration": 0.030417,
     "end_time": "2022-11-02T22:30:55.043882",
     "exception": false,
     "start_time": "2022-11-02T22:30:55.013465",
     "status": "completed"
    },
    "tags": []
   },
   "outputs": [
    {
     "data": {
      "application/javascript": [
       "parent.postMessage({\"jupyterEvent\": \"custom.exercise_interaction\", \"data\": {\"outcomeType\": 1, \"valueTowardsCompletion\": 0.5, \"interactionType\": 1, \"questionType\": 2, \"questionId\": \"1.2_Model1B\", \"learnToolsVersion\": \"0.3.4\", \"failureMessage\": \"\", \"exceptionClass\": \"\", \"trace\": \"\"}}, \"*\")"
      ],
      "text/plain": [
       "<IPython.core.display.Javascript object>"
      ]
     },
     "metadata": {},
     "output_type": "display_data"
    },
    {
     "data": {
      "text/markdown": [
       "<span style=\"color:#33cc33\">Correct</span>"
      ],
      "text/plain": [
       "Correct"
      ]
     },
     "metadata": {},
     "output_type": "display_data"
    }
   ],
   "source": [
    "from sklearn.metrics import mean_absolute_error\n",
    "\n",
    "# Get predictions\n",
    "predictions_1 = my_model_1.predict(X_valid)\n",
    "\n",
    "# Check your answer\n",
    "step_1.b.check()"
   ]
  },
  {
   "cell_type": "code",
   "execution_count": 6,
   "id": "d7407e5c",
   "metadata": {
    "execution": {
     "iopub.execute_input": "2022-11-02T22:30:55.056111Z",
     "iopub.status.busy": "2022-11-02T22:30:55.055720Z",
     "iopub.status.idle": "2022-11-02T22:30:55.059693Z",
     "shell.execute_reply": "2022-11-02T22:30:55.058779Z"
    },
    "papermill": {
     "duration": 0.012321,
     "end_time": "2022-11-02T22:30:55.061485",
     "exception": false,
     "start_time": "2022-11-02T22:30:55.049164",
     "status": "completed"
    },
    "tags": []
   },
   "outputs": [],
   "source": [
    "# Lines below will give you a hint or solution code\n",
    "#step_1.b.hint()\n",
    "#step_1.b.solution()"
   ]
  },
  {
   "cell_type": "markdown",
   "id": "c8517a89",
   "metadata": {
    "papermill": {
     "duration": 0.006033,
     "end_time": "2022-11-02T22:30:55.073324",
     "exception": false,
     "start_time": "2022-11-02T22:30:55.067291",
     "status": "completed"
    },
    "tags": []
   },
   "source": [
    "### Part C\n",
    "\n",
    "Finally, use the `mean_absolute_error()` function to calculate the mean absolute error (MAE) corresponding to the predictions for the validation set.  Recall that the labels for the validation data are stored in `y_valid`."
   ]
  },
  {
   "cell_type": "code",
   "execution_count": 7,
   "id": "4f90073e",
   "metadata": {
    "execution": {
     "iopub.execute_input": "2022-11-02T22:30:55.087601Z",
     "iopub.status.busy": "2022-11-02T22:30:55.086841Z",
     "iopub.status.idle": "2022-11-02T22:30:55.096698Z",
     "shell.execute_reply": "2022-11-02T22:30:55.095806Z"
    },
    "papermill": {
     "duration": 0.019011,
     "end_time": "2022-11-02T22:30:55.098474",
     "exception": false,
     "start_time": "2022-11-02T22:30:55.079463",
     "status": "completed"
    },
    "tags": []
   },
   "outputs": [
    {
     "name": "stdout",
     "output_type": "stream",
     "text": [
      "Mean Absolute Error: 17662.736729452055\n"
     ]
    },
    {
     "data": {
      "application/javascript": [
       "parent.postMessage({\"jupyterEvent\": \"custom.exercise_interaction\", \"data\": {\"outcomeType\": 1, \"valueTowardsCompletion\": 0.5, \"interactionType\": 1, \"questionType\": 2, \"questionId\": \"1.3_Model1C\", \"learnToolsVersion\": \"0.3.4\", \"failureMessage\": \"\", \"exceptionClass\": \"\", \"trace\": \"\"}}, \"*\")"
      ],
      "text/plain": [
       "<IPython.core.display.Javascript object>"
      ]
     },
     "metadata": {},
     "output_type": "display_data"
    },
    {
     "data": {
      "text/markdown": [
       "<span style=\"color:#33cc33\">Correct</span>"
      ],
      "text/plain": [
       "Correct"
      ]
     },
     "metadata": {},
     "output_type": "display_data"
    }
   ],
   "source": [
    "# Calculate MAE\n",
    "mae_1 = mean_absolute_error(y_valid, predictions_1)\n",
    "# Uncomment to print MAE\n",
    "print(\"Mean Absolute Error:\" , mae_1)\n",
    "\n",
    "# Check your answer\n",
    "step_1.c.check()"
   ]
  },
  {
   "cell_type": "code",
   "execution_count": 8,
   "id": "49c14178",
   "metadata": {
    "execution": {
     "iopub.execute_input": "2022-11-02T22:30:55.110342Z",
     "iopub.status.busy": "2022-11-02T22:30:55.109981Z",
     "iopub.status.idle": "2022-11-02T22:30:55.113464Z",
     "shell.execute_reply": "2022-11-02T22:30:55.112811Z"
    },
    "papermill": {
     "duration": 0.011497,
     "end_time": "2022-11-02T22:30:55.115154",
     "exception": false,
     "start_time": "2022-11-02T22:30:55.103657",
     "status": "completed"
    },
    "tags": []
   },
   "outputs": [],
   "source": [
    "# Lines below will give you a hint or solution code\n",
    "#step_1.c.hint()\n",
    "#step_1.c.solution()"
   ]
  },
  {
   "cell_type": "markdown",
   "id": "88c541c5",
   "metadata": {
    "papermill": {
     "duration": 0.004967,
     "end_time": "2022-11-02T22:30:55.125608",
     "exception": false,
     "start_time": "2022-11-02T22:30:55.120641",
     "status": "completed"
    },
    "tags": []
   },
   "source": [
    "# Step 2: Improve the model\n",
    "\n",
    "Now that you've trained a default model as baseline, it's time to tinker with the parameters, to see if you can get better performance!\n",
    "- Begin by setting `my_model_2` to an XGBoost model, using the [XGBRegressor](https://xgboost.readthedocs.io/en/latest/python/python_api.html#xgboost.XGBRegressor) class.  Use what you learned in the previous tutorial to figure out how to change the default parameters (like `n_estimators` and `learning_rate`) to get better results.\n",
    "- Then, fit the model to the training data in `X_train` and `y_train`.\n",
    "- Set `predictions_2` to the model's predictions for the validation data.  Recall that the validation features are stored in `X_valid`.\n",
    "- Finally, use the `mean_absolute_error()` function to calculate the mean absolute error (MAE) corresponding to the predictions on the validation set.  Recall that the labels for the validation data are stored in `y_valid`.\n",
    "\n",
    "In order for this step to be marked correct, your model in `my_model_2` must attain lower MAE than the model in `my_model_1`. "
   ]
  },
  {
   "cell_type": "markdown",
   "id": "3040d826",
   "metadata": {
    "papermill": {
     "duration": 0.004842,
     "end_time": "2022-11-02T22:30:55.135959",
     "exception": false,
     "start_time": "2022-11-02T22:30:55.131117",
     "status": "completed"
    },
    "tags": []
   },
   "source": [
    "# Step 3: Break the model\n",
    "\n",
    "In this step, you will create a model that performs worse than the original model in Step 1.  This will help you to develop your intuition for how to set parameters.  You might even find that you accidentally get better performance, which is ultimately a nice problem to have and a valuable learning experience!\n",
    "- Begin by setting `my_model_3` to an XGBoost model, using the [XGBRegressor](https://xgboost.readthedocs.io/en/latest/python/python_api.html#xgboost.XGBRegressor) class.  Use what you learned in the previous tutorial to figure out how to change the default parameters (like `n_estimators` and `learning_rate`) to design a model to get high MAE.\n",
    "- Then, fit the model to the training data in `X_train` and `y_train`.\n",
    "- Set `predictions_3` to the model's predictions for the validation data.  Recall that the validation features are stored in `X_valid`.\n",
    "- Finally, use the `mean_absolute_error()` function to calculate the mean absolute error (MAE) corresponding to the predictions on the validation set.  Recall that the labels for the validation data are stored in `y_valid`.\n",
    "\n",
    "In order for this step to be marked correct, your model in `my_model_3` must attain higher MAE than the model in `my_model_1`. "
   ]
  },
  {
   "cell_type": "code",
   "execution_count": 9,
   "id": "738f3899",
   "metadata": {
    "execution": {
     "iopub.execute_input": "2022-11-02T22:30:55.148202Z",
     "iopub.status.busy": "2022-11-02T22:30:55.147432Z",
     "iopub.status.idle": "2022-11-02T22:31:03.631462Z",
     "shell.execute_reply": "2022-11-02T22:31:03.630754Z"
    },
    "papermill": {
     "duration": 8.492089,
     "end_time": "2022-11-02T22:31:03.633203",
     "exception": false,
     "start_time": "2022-11-02T22:30:55.141114",
     "status": "completed"
    },
    "tags": []
   },
   "outputs": [
    {
     "name": "stderr",
     "output_type": "stream",
     "text": [
      "/opt/conda/lib/python3.7/site-packages/xgboost/sklearn.py:797: UserWarning: `early_stopping_rounds` in `fit` method is deprecated for better compatibility with scikit-learn, use `early_stopping_rounds` in constructor or`set_params` instead.\n",
      "  UserWarning,\n"
     ]
    },
    {
     "name": "stdout",
     "output_type": "stream",
     "text": [
      "Mean Absolute Error: 16682.60803724315\n"
     ]
    },
    {
     "data": {
      "application/javascript": [
       "parent.postMessage({\"jupyterEvent\": \"custom.exercise_interaction\", \"data\": {\"outcomeType\": 1, \"valueTowardsCompletion\": 0.5, \"interactionType\": 1, \"questionType\": 2, \"questionId\": \"2_Model2\", \"learnToolsVersion\": \"0.3.4\", \"failureMessage\": \"\", \"exceptionClass\": \"\", \"trace\": \"\"}}, \"*\")"
      ],
      "text/plain": [
       "<IPython.core.display.Javascript object>"
      ]
     },
     "metadata": {},
     "output_type": "display_data"
    },
    {
     "data": {
      "text/markdown": [
       "<span style=\"color:#33cc33\">Correct</span>"
      ],
      "text/plain": [
       "Correct"
      ]
     },
     "metadata": {},
     "output_type": "display_data"
    }
   ],
   "source": [
    "# Define the model\n",
    "my_model_2 = XGBRegressor( n_estimators=1000, learning_rate=0.05)\n",
    "# Fit the model\n",
    "my_model_2.fit(X_train, y_train, early_stopping_rounds=85, eval_set=[(X_valid, y_valid)], verbose=False)\n",
    "\n",
    "# Get predictions\n",
    "predictions_2 = my_model_2.predict(X_valid)\n",
    "\n",
    "# Calculate MAE\n",
    "mae_2 = mean_absolute_error(y_valid, predictions_2)\n",
    "\n",
    "# Uncomment to print MAE\n",
    "print(\"Mean Absolute Error:\" , mae_2)\n",
    "\n",
    "# Check your answer\n",
    "step_2.check()"
   ]
  },
  {
   "cell_type": "code",
   "execution_count": 10,
   "id": "46faeb35",
   "metadata": {
    "execution": {
     "iopub.execute_input": "2022-11-02T22:31:03.646341Z",
     "iopub.status.busy": "2022-11-02T22:31:03.645557Z",
     "iopub.status.idle": "2022-11-02T22:31:03.649645Z",
     "shell.execute_reply": "2022-11-02T22:31:03.648540Z"
    },
    "papermill": {
     "duration": 0.013174,
     "end_time": "2022-11-02T22:31:03.652124",
     "exception": false,
     "start_time": "2022-11-02T22:31:03.638950",
     "status": "completed"
    },
    "tags": []
   },
   "outputs": [],
   "source": [
    "# Lines below will give you a hint or solution code\n",
    "#step_2.hint()\n",
    "#step_2.solution()"
   ]
  },
  {
   "cell_type": "code",
   "execution_count": 11,
   "id": "4c095d9a",
   "metadata": {
    "execution": {
     "iopub.execute_input": "2022-11-02T22:31:03.666559Z",
     "iopub.status.busy": "2022-11-02T22:31:03.665505Z",
     "iopub.status.idle": "2022-11-02T22:31:03.793395Z",
     "shell.execute_reply": "2022-11-02T22:31:03.792377Z"
    },
    "papermill": {
     "duration": 0.137369,
     "end_time": "2022-11-02T22:31:03.795541",
     "exception": false,
     "start_time": "2022-11-02T22:31:03.658172",
     "status": "completed"
    },
    "tags": []
   },
   "outputs": [
    {
     "name": "stdout",
     "output_type": "stream",
     "text": [
      "Mean Absolute Error: 19076.726000642124\n"
     ]
    },
    {
     "data": {
      "application/javascript": [
       "parent.postMessage({\"jupyterEvent\": \"custom.exercise_interaction\", \"data\": {\"outcomeType\": 1, \"valueTowardsCompletion\": 0.5, \"interactionType\": 1, \"questionType\": 2, \"questionId\": \"3_Model3\", \"learnToolsVersion\": \"0.3.4\", \"failureMessage\": \"\", \"exceptionClass\": \"\", \"trace\": \"\"}}, \"*\")"
      ],
      "text/plain": [
       "<IPython.core.display.Javascript object>"
      ]
     },
     "metadata": {},
     "output_type": "display_data"
    },
    {
     "data": {
      "text/markdown": [
       "<span style=\"color:#33cc33\">Correct</span>"
      ],
      "text/plain": [
       "Correct"
      ]
     },
     "metadata": {},
     "output_type": "display_data"
    }
   ],
   "source": [
    "# Define the model\n",
    "my_model_3 = XGBRegressor(n_estimators=10)\n",
    "\n",
    "# Fit the model\n",
    "my_model_3.fit(X_train, y_train, verbose=False)\n",
    "\n",
    "# Get predictions\n",
    "predictions_3 = my_model_3.predict(X_valid)\n",
    "\n",
    "# Calculate MAE\n",
    "mae_3 = mean_absolute_error(y_valid, predictions_3)\n",
    "\n",
    "# Uncomment to print MAE\n",
    "print(\"Mean Absolute Error:\" , mae_3)\n",
    "\n",
    "# Check your answer\n",
    "step_3.check()"
   ]
  },
  {
   "cell_type": "code",
   "execution_count": 12,
   "id": "5ba0640a",
   "metadata": {
    "execution": {
     "iopub.execute_input": "2022-11-02T22:31:03.809352Z",
     "iopub.status.busy": "2022-11-02T22:31:03.808979Z",
     "iopub.status.idle": "2022-11-02T22:31:03.812828Z",
     "shell.execute_reply": "2022-11-02T22:31:03.811924Z"
    },
    "papermill": {
     "duration": 0.013376,
     "end_time": "2022-11-02T22:31:03.814893",
     "exception": false,
     "start_time": "2022-11-02T22:31:03.801517",
     "status": "completed"
    },
    "tags": []
   },
   "outputs": [],
   "source": [
    "# Lines below will give you a hint or solution code\n",
    "#step_3.hint()\n",
    "#step_3.solution()"
   ]
  },
  {
   "cell_type": "markdown",
   "id": "1ec5bd2f",
   "metadata": {
    "papermill": {
     "duration": 0.00571,
     "end_time": "2022-11-02T22:31:03.826830",
     "exception": false,
     "start_time": "2022-11-02T22:31:03.821120",
     "status": "completed"
    },
    "tags": []
   },
   "source": [
    "# Keep going\n",
    "\n",
    "Continue to learn about **[data leakage](https://www.kaggle.com/alexisbcook/data-leakage)**.  This is an important issue for a data scientist to understand, and it has the potential to ruin your models in subtle and dangerous ways!"
   ]
  },
  {
   "cell_type": "markdown",
   "id": "62ee13e0",
   "metadata": {
    "papermill": {
     "duration": 0.005647,
     "end_time": "2022-11-02T22:31:03.838698",
     "exception": false,
     "start_time": "2022-11-02T22:31:03.833051",
     "status": "completed"
    },
    "tags": []
   },
   "source": [
    "---\n",
    "\n",
    "\n",
    "\n",
    "\n",
    "*Have questions or comments? Visit the [course discussion forum](https://www.kaggle.com/learn/intermediate-machine-learning/discussion) to chat with other learners.*"
   ]
  }
 ],
 "metadata": {
  "kernelspec": {
   "display_name": "Python 3",
   "language": "python",
   "name": "python3"
  },
  "language_info": {
   "codemirror_mode": {
    "name": "ipython",
    "version": 3
   },
   "file_extension": ".py",
   "mimetype": "text/x-python",
   "name": "python",
   "nbconvert_exporter": "python",
   "pygments_lexer": "ipython3",
   "version": "3.7.12"
  },
  "papermill": {
   "default_parameters": {},
   "duration": 21.277528,
   "end_time": "2022-11-02T22:31:04.565926",
   "environment_variables": {},
   "exception": null,
   "input_path": "__notebook__.ipynb",
   "output_path": "__notebook__.ipynb",
   "parameters": {},
   "start_time": "2022-11-02T22:30:43.288398",
   "version": "2.3.4"
  }
 },
 "nbformat": 4,
 "nbformat_minor": 5
}
