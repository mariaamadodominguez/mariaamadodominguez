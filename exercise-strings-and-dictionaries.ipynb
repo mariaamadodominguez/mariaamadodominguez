{
 "cells": [
  {
   "cell_type": "markdown",
   "id": "89733bac",
   "metadata": {
    "papermill": {
     "duration": 0.006973,
     "end_time": "2022-11-14T22:15:07.419654",
     "exception": false,
     "start_time": "2022-11-14T22:15:07.412681",
     "status": "completed"
    },
    "tags": []
   },
   "source": [
    "**This notebook is an exercise in the [Python](https://www.kaggle.com/learn/python) course.  You can reference the tutorial at [this link](https://www.kaggle.com/colinmorris/strings-and-dictionaries).**\n",
    "\n",
    "---\n"
   ]
  },
  {
   "cell_type": "markdown",
   "id": "8384beb6",
   "metadata": {
    "papermill": {
     "duration": 0.005302,
     "end_time": "2022-11-14T22:15:07.430869",
     "exception": false,
     "start_time": "2022-11-14T22:15:07.425567",
     "status": "completed"
    },
    "tags": []
   },
   "source": [
    "You are almost done with the course. Nice job!\n",
    "\n",
    "We have a couple more interesting problems for you before you go. \n",
    "\n",
    "As always, run the setup code below before working on the questions."
   ]
  },
  {
   "cell_type": "code",
   "execution_count": 1,
   "id": "6ec60b0a",
   "metadata": {
    "execution": {
     "iopub.execute_input": "2022-11-14T22:15:07.443845Z",
     "iopub.status.busy": "2022-11-14T22:15:07.443387Z",
     "iopub.status.idle": "2022-11-14T22:15:07.501737Z",
     "shell.execute_reply": "2022-11-14T22:15:07.500607Z"
    },
    "papermill": {
     "duration": 0.068978,
     "end_time": "2022-11-14T22:15:07.505380",
     "exception": false,
     "start_time": "2022-11-14T22:15:07.436402",
     "status": "completed"
    },
    "tags": []
   },
   "outputs": [
    {
     "name": "stdout",
     "output_type": "stream",
     "text": [
      "Setup complete.\n"
     ]
    }
   ],
   "source": [
    "from learntools.core import binder; binder.bind(globals())\n",
    "from learntools.python.ex6 import *\n",
    "print('Setup complete.')"
   ]
  },
  {
   "cell_type": "markdown",
   "id": "cbda9e2b",
   "metadata": {
    "papermill": {
     "duration": 0.00528,
     "end_time": "2022-11-14T22:15:07.516992",
     "exception": false,
     "start_time": "2022-11-14T22:15:07.511712",
     "status": "completed"
    },
    "tags": []
   },
   "source": [
    "Let's start with a string lightning round to warm up. What are the lengths of the strings below?\n",
    "\n",
    "For each of the five strings below, predict what `len()` would return when passed that string. Use the variable `length` to record your answer, then run the cell to check whether you were right.  \n",
    "\n",
    "# 0a."
   ]
  },
  {
   "cell_type": "code",
   "execution_count": 2,
   "id": "741cf94f",
   "metadata": {
    "execution": {
     "iopub.execute_input": "2022-11-14T22:15:07.529318Z",
     "iopub.status.busy": "2022-11-14T22:15:07.528923Z",
     "iopub.status.idle": "2022-11-14T22:15:07.540907Z",
     "shell.execute_reply": "2022-11-14T22:15:07.539725Z"
    },
    "papermill": {
     "duration": 0.020904,
     "end_time": "2022-11-14T22:15:07.543289",
     "exception": false,
     "start_time": "2022-11-14T22:15:07.522385",
     "status": "completed"
    },
    "tags": []
   },
   "outputs": [
    {
     "data": {
      "application/javascript": [
       "parent.postMessage({\"jupyterEvent\": \"custom.exercise_interaction\", \"data\": {\"outcomeType\": 1, \"valueTowardsCompletion\": 0.3333333333333333, \"interactionType\": 1, \"questionType\": 1, \"questionId\": \"0.1_ZA\", \"learnToolsVersion\": \"0.3.4\", \"failureMessage\": \"\", \"exceptionClass\": \"\", \"trace\": \"\"}}, \"*\")"
      ],
      "text/plain": [
       "<IPython.core.display.Javascript object>"
      ]
     },
     "metadata": {},
     "output_type": "display_data"
    },
    {
     "data": {
      "text/markdown": [
       "<span style=\"color:#33cc33\">Correct:</span> \n",
       "\n",
       "The empty string has length zero. Note that the empty string is also the only string that Python considers as False when converting to boolean."
      ],
      "text/plain": [
       "Correct: \n",
       "\n",
       "The empty string has length zero. Note that the empty string is also the only string that Python considers as False when converting to boolean."
      ]
     },
     "metadata": {},
     "output_type": "display_data"
    }
   ],
   "source": [
    "a = \"\"\n",
    "length = 0\n",
    "q0.a.check()"
   ]
  },
  {
   "cell_type": "markdown",
   "id": "b4894038",
   "metadata": {
    "papermill": {
     "duration": 0.005448,
     "end_time": "2022-11-14T22:15:07.554550",
     "exception": false,
     "start_time": "2022-11-14T22:15:07.549102",
     "status": "completed"
    },
    "tags": []
   },
   "source": [
    "# 0b."
   ]
  },
  {
   "cell_type": "code",
   "execution_count": 3,
   "id": "5a5fb65e",
   "metadata": {
    "execution": {
     "iopub.execute_input": "2022-11-14T22:15:07.567533Z",
     "iopub.status.busy": "2022-11-14T22:15:07.567155Z",
     "iopub.status.idle": "2022-11-14T22:15:07.575474Z",
     "shell.execute_reply": "2022-11-14T22:15:07.574397Z"
    },
    "papermill": {
     "duration": 0.01736,
     "end_time": "2022-11-14T22:15:07.577534",
     "exception": false,
     "start_time": "2022-11-14T22:15:07.560174",
     "status": "completed"
    },
    "tags": []
   },
   "outputs": [
    {
     "data": {
      "application/javascript": [
       "parent.postMessage({\"jupyterEvent\": \"custom.exercise_interaction\", \"data\": {\"outcomeType\": 1, \"valueTowardsCompletion\": 0.3333333333333333, \"interactionType\": 1, \"questionType\": 1, \"questionId\": \"0.2_ZB\", \"learnToolsVersion\": \"0.3.4\", \"failureMessage\": \"\", \"exceptionClass\": \"\", \"trace\": \"\"}}, \"*\")"
      ],
      "text/plain": [
       "<IPython.core.display.Javascript object>"
      ]
     },
     "metadata": {},
     "output_type": "display_data"
    },
    {
     "data": {
      "text/markdown": [
       "<span style=\"color:#33cc33\">Correct:</span> \n",
       "\n",
       "Keep in mind Python includes spaces (and punctuation) when counting string length."
      ],
      "text/plain": [
       "Correct: \n",
       "\n",
       "Keep in mind Python includes spaces (and punctuation) when counting string length."
      ]
     },
     "metadata": {},
     "output_type": "display_data"
    }
   ],
   "source": [
    "b = \"it's ok\"\n",
    "length = 7\n",
    "q0.b.check()"
   ]
  },
  {
   "cell_type": "markdown",
   "id": "3a7f73be",
   "metadata": {
    "papermill": {
     "duration": 0.005571,
     "end_time": "2022-11-14T22:15:07.588961",
     "exception": false,
     "start_time": "2022-11-14T22:15:07.583390",
     "status": "completed"
    },
    "tags": []
   },
   "source": [
    "# 0c."
   ]
  },
  {
   "cell_type": "code",
   "execution_count": 4,
   "id": "de33eb91",
   "metadata": {
    "execution": {
     "iopub.execute_input": "2022-11-14T22:15:07.604364Z",
     "iopub.status.busy": "2022-11-14T22:15:07.603437Z",
     "iopub.status.idle": "2022-11-14T22:15:07.612851Z",
     "shell.execute_reply": "2022-11-14T22:15:07.611640Z"
    },
    "papermill": {
     "duration": 0.018806,
     "end_time": "2022-11-14T22:15:07.615097",
     "exception": false,
     "start_time": "2022-11-14T22:15:07.596291",
     "status": "completed"
    },
    "tags": []
   },
   "outputs": [
    {
     "data": {
      "application/javascript": [
       "parent.postMessage({\"jupyterEvent\": \"custom.exercise_interaction\", \"data\": {\"outcomeType\": 1, \"valueTowardsCompletion\": 0.3333333333333333, \"interactionType\": 1, \"questionType\": 1, \"questionId\": \"0.3_ZC\", \"learnToolsVersion\": \"0.3.4\", \"failureMessage\": \"\", \"exceptionClass\": \"\", \"trace\": \"\"}}, \"*\")"
      ],
      "text/plain": [
       "<IPython.core.display.Javascript object>"
      ]
     },
     "metadata": {},
     "output_type": "display_data"
    },
    {
     "data": {
      "text/markdown": [
       "<span style=\"color:#33cc33\">Correct:</span> \n",
       "\n",
       "Even though we use different syntax to create it, the string `c` is identical to `b`. In particular, note that the backslash is not part of the string, so it doesn't contribute to its length."
      ],
      "text/plain": [
       "Correct: \n",
       "\n",
       "Even though we use different syntax to create it, the string `c` is identical to `b`. In particular, note that the backslash is not part of the string, so it doesn't contribute to its length."
      ]
     },
     "metadata": {},
     "output_type": "display_data"
    }
   ],
   "source": [
    "c = 'it\\'s ok'\n",
    "length = 7\n",
    "q0.c.check()"
   ]
  },
  {
   "cell_type": "markdown",
   "id": "d0d6fd3e",
   "metadata": {
    "papermill": {
     "duration": 0.006076,
     "end_time": "2022-11-14T22:15:07.627420",
     "exception": false,
     "start_time": "2022-11-14T22:15:07.621344",
     "status": "completed"
    },
    "tags": []
   },
   "source": [
    "# 0d."
   ]
  },
  {
   "cell_type": "code",
   "execution_count": 5,
   "id": "f211cb69",
   "metadata": {
    "execution": {
     "iopub.execute_input": "2022-11-14T22:15:07.642190Z",
     "iopub.status.busy": "2022-11-14T22:15:07.641432Z",
     "iopub.status.idle": "2022-11-14T22:15:07.651245Z",
     "shell.execute_reply": "2022-11-14T22:15:07.649913Z"
    },
    "papermill": {
     "duration": 0.020037,
     "end_time": "2022-11-14T22:15:07.653687",
     "exception": false,
     "start_time": "2022-11-14T22:15:07.633650",
     "status": "completed"
    },
    "tags": []
   },
   "outputs": [
    {
     "data": {
      "application/javascript": [
       "parent.postMessage({\"jupyterEvent\": \"custom.exercise_interaction\", \"data\": {\"outcomeType\": 1, \"valueTowardsCompletion\": 0.3333333333333333, \"interactionType\": 1, \"questionType\": 1, \"questionId\": \"0.4_ZD\", \"learnToolsVersion\": \"0.3.4\", \"failureMessage\": \"\", \"exceptionClass\": \"\", \"trace\": \"\"}}, \"*\")"
      ],
      "text/plain": [
       "<IPython.core.display.Javascript object>"
      ]
     },
     "metadata": {},
     "output_type": "display_data"
    },
    {
     "data": {
      "text/markdown": [
       "<span style=\"color:#33cc33\">Correct:</span> \n",
       "\n",
       "The fact that this string was created using triple-quote syntax doesn't make any difference in terms of its content or length. This string is exactly the same as `'hey'`."
      ],
      "text/plain": [
       "Correct: \n",
       "\n",
       "The fact that this string was created using triple-quote syntax doesn't make any difference in terms of its content or length. This string is exactly the same as `'hey'`."
      ]
     },
     "metadata": {},
     "output_type": "display_data"
    }
   ],
   "source": [
    "d = \"\"\"hey\"\"\"\n",
    "length = 3\n",
    "q0.d.check()"
   ]
  },
  {
   "cell_type": "markdown",
   "id": "65d5f37b",
   "metadata": {
    "papermill": {
     "duration": 0.00659,
     "end_time": "2022-11-14T22:15:07.666918",
     "exception": false,
     "start_time": "2022-11-14T22:15:07.660328",
     "status": "completed"
    },
    "tags": []
   },
   "source": [
    "# 0e."
   ]
  },
  {
   "cell_type": "code",
   "execution_count": 6,
   "id": "97f3ceda",
   "metadata": {
    "execution": {
     "iopub.execute_input": "2022-11-14T22:15:07.682257Z",
     "iopub.status.busy": "2022-11-14T22:15:07.681502Z",
     "iopub.status.idle": "2022-11-14T22:15:07.690470Z",
     "shell.execute_reply": "2022-11-14T22:15:07.689124Z"
    },
    "papermill": {
     "duration": 0.019892,
     "end_time": "2022-11-14T22:15:07.693351",
     "exception": false,
     "start_time": "2022-11-14T22:15:07.673459",
     "status": "completed"
    },
    "tags": []
   },
   "outputs": [
    {
     "data": {
      "application/javascript": [
       "parent.postMessage({\"jupyterEvent\": \"custom.exercise_interaction\", \"data\": {\"outcomeType\": 1, \"valueTowardsCompletion\": 0.3333333333333333, \"interactionType\": 1, \"questionType\": 1, \"questionId\": \"0.5_ZE\", \"learnToolsVersion\": \"0.3.4\", \"failureMessage\": \"\", \"exceptionClass\": \"\", \"trace\": \"\"}}, \"*\")"
      ],
      "text/plain": [
       "<IPython.core.display.Javascript object>"
      ]
     },
     "metadata": {},
     "output_type": "display_data"
    },
    {
     "data": {
      "text/markdown": [
       "<span style=\"color:#33cc33\">Correct:</span> \n",
       "\n",
       "The newline character is just a single character! (Even though we represent it to Python using a combination of two characters.)"
      ],
      "text/plain": [
       "Correct: \n",
       "\n",
       "The newline character is just a single character! (Even though we represent it to Python using a combination of two characters.)"
      ]
     },
     "metadata": {},
     "output_type": "display_data"
    }
   ],
   "source": [
    "e = '\\n'\n",
    "length = 1\n",
    "q0.e.check()"
   ]
  },
  {
   "cell_type": "markdown",
   "id": "9da2257d",
   "metadata": {
    "papermill": {
     "duration": 0.006418,
     "end_time": "2022-11-14T22:15:07.706625",
     "exception": false,
     "start_time": "2022-11-14T22:15:07.700207",
     "status": "completed"
    },
    "tags": []
   },
   "source": [
    "# 1.\n",
    "\n",
    "There is a saying that \"Data scientists spend 80% of their time cleaning data, and 20% of their time complaining about cleaning data.\" Let's see if you can write a function to help clean US zip code data. Given a string, it should return whether or not that string represents a valid zip code. For our purposes, a valid zip code is any string consisting of exactly 5 digits.\n",
    "\n",
    "HINT: `str` has a method that will be useful here. Use `help(str)` to review a list of string methods."
   ]
  },
  {
   "cell_type": "code",
   "execution_count": 7,
   "id": "c6b8ff33",
   "metadata": {
    "execution": {
     "iopub.execute_input": "2022-11-14T22:15:07.722549Z",
     "iopub.status.busy": "2022-11-14T22:15:07.721848Z",
     "iopub.status.idle": "2022-11-14T22:15:07.730053Z",
     "shell.execute_reply": "2022-11-14T22:15:07.729259Z"
    },
    "papermill": {
     "duration": 0.018605,
     "end_time": "2022-11-14T22:15:07.732221",
     "exception": false,
     "start_time": "2022-11-14T22:15:07.713616",
     "status": "completed"
    },
    "tags": []
   },
   "outputs": [
    {
     "data": {
      "application/javascript": [
       "parent.postMessage({\"jupyterEvent\": \"custom.exercise_interaction\", \"data\": {\"outcomeType\": 1, \"valueTowardsCompletion\": 0.3333333333333333, \"interactionType\": 1, \"questionType\": 2, \"questionId\": \"1_ZipValidator\", \"learnToolsVersion\": \"0.3.4\", \"failureMessage\": \"\", \"exceptionClass\": \"\", \"trace\": \"\"}}, \"*\")"
      ],
      "text/plain": [
       "<IPython.core.display.Javascript object>"
      ]
     },
     "metadata": {},
     "output_type": "display_data"
    },
    {
     "data": {
      "text/markdown": [
       "<span style=\"color:#33cc33\">Correct</span>"
      ],
      "text/plain": [
       "Correct"
      ]
     },
     "metadata": {},
     "output_type": "display_data"
    }
   ],
   "source": [
    "def is_valid_zip(zip_code):\n",
    "    \"\"\"Returns whether the input string is a valid (5 digit) zip code\n",
    "    \"\"\"\n",
    "    return zip_code.isdigit() and len(zip_code)==5\n",
    "\n",
    "# Check your answer\n",
    "q1.check()"
   ]
  },
  {
   "cell_type": "code",
   "execution_count": 8,
   "id": "e78bea93",
   "metadata": {
    "execution": {
     "iopub.execute_input": "2022-11-14T22:15:07.748292Z",
     "iopub.status.busy": "2022-11-14T22:15:07.747584Z",
     "iopub.status.idle": "2022-11-14T22:15:07.751218Z",
     "shell.execute_reply": "2022-11-14T22:15:07.750474Z"
    },
    "papermill": {
     "duration": 0.014127,
     "end_time": "2022-11-14T22:15:07.753326",
     "exception": false,
     "start_time": "2022-11-14T22:15:07.739199",
     "status": "completed"
    },
    "tags": []
   },
   "outputs": [],
   "source": [
    "#q1.hint()\n",
    "#q1.solution()"
   ]
  },
  {
   "cell_type": "markdown",
   "id": "0307daca",
   "metadata": {
    "papermill": {
     "duration": 0.006623,
     "end_time": "2022-11-14T22:15:07.766886",
     "exception": false,
     "start_time": "2022-11-14T22:15:07.760263",
     "status": "completed"
    },
    "tags": []
   },
   "source": [
    "# 2.\n",
    "\n",
    "A researcher has gathered thousands of news articles. But she wants to focus her attention on articles including a specific word. Complete the function below to help her filter her list of articles.\n",
    "\n",
    "Your function should meet the following criteria:\n",
    "\n",
    "- Do not include documents where the keyword string shows up only as a part of a larger word. For example, if she were looking for the keyword “closed”, you would not include the string “enclosed.” \n",
    "- She does not want you to distinguish upper case from lower case letters. So the phrase “Closed the case.” would be included when the keyword is “closed”\n",
    "- Do not let periods or commas affect what is matched. “It is closed.” would be included when the keyword is “closed”. But you can assume there are no other types of punctuation."
   ]
  },
  {
   "cell_type": "code",
   "execution_count": 9,
   "id": "6a7a2400",
   "metadata": {
    "execution": {
     "iopub.execute_input": "2022-11-14T22:15:07.783770Z",
     "iopub.status.busy": "2022-11-14T22:15:07.783050Z",
     "iopub.status.idle": "2022-11-14T22:15:07.792755Z",
     "shell.execute_reply": "2022-11-14T22:15:07.791973Z"
    },
    "papermill": {
     "duration": 0.021134,
     "end_time": "2022-11-14T22:15:07.794842",
     "exception": false,
     "start_time": "2022-11-14T22:15:07.773708",
     "status": "completed"
    },
    "tags": []
   },
   "outputs": [
    {
     "data": {
      "application/javascript": [
       "parent.postMessage({\"jupyterEvent\": \"custom.exercise_interaction\", \"data\": {\"outcomeType\": 1, \"valueTowardsCompletion\": 0.3333333333333333, \"interactionType\": 1, \"questionType\": 2, \"questionId\": \"2_WordSearch\", \"learnToolsVersion\": \"0.3.4\", \"failureMessage\": \"\", \"exceptionClass\": \"\", \"trace\": \"\"}}, \"*\")"
      ],
      "text/plain": [
       "<IPython.core.display.Javascript object>"
      ]
     },
     "metadata": {},
     "output_type": "display_data"
    },
    {
     "data": {
      "text/markdown": [
       "<span style=\"color:#33cc33\">Correct</span>"
      ],
      "text/plain": [
       "Correct"
      ]
     },
     "metadata": {},
     "output_type": "display_data"
    }
   ],
   "source": [
    "def word_search(doc_list, keyword):\n",
    "    \"\"\"\n",
    "    Takes a list of documents (each document is a string) and a keyword. \n",
    "    Returns list of the index values into the original list for all documents \n",
    "    containing the keyword.\n",
    "\n",
    "    Example:\n",
    "    doc_list = [\"The Learn Python Challenge Casino.\", \"They bought a car\", \"Casinoville\"]\n",
    "    >>> word_search(doc_list, 'casino')\n",
    "    >>> [0]\n",
    "    \"\"\"\n",
    "    doc_index = []\n",
    "    for i, doc in enumerate(doc_list):\n",
    "        words = doc.split()       \n",
    "        normalized = [word.strip('.,').upper() for word in words]\n",
    "        if keyword.upper() in normalized:\n",
    "            doc_index.append(i)\n",
    "    return doc_index\n",
    "        \n",
    "\n",
    "# Check your answer\n",
    "q2.check()"
   ]
  },
  {
   "cell_type": "code",
   "execution_count": 10,
   "id": "1aca490f",
   "metadata": {
    "execution": {
     "iopub.execute_input": "2022-11-14T22:15:07.811219Z",
     "iopub.status.busy": "2022-11-14T22:15:07.810546Z",
     "iopub.status.idle": "2022-11-14T22:15:07.814350Z",
     "shell.execute_reply": "2022-11-14T22:15:07.813396Z"
    },
    "papermill": {
     "duration": 0.014319,
     "end_time": "2022-11-14T22:15:07.816418",
     "exception": false,
     "start_time": "2022-11-14T22:15:07.802099",
     "status": "completed"
    },
    "tags": []
   },
   "outputs": [],
   "source": [
    "#q2.hint()\n",
    "#q2.solution()"
   ]
  },
  {
   "cell_type": "markdown",
   "id": "1bcf63a6",
   "metadata": {
    "papermill": {
     "duration": 0.006907,
     "end_time": "2022-11-14T22:15:07.830430",
     "exception": false,
     "start_time": "2022-11-14T22:15:07.823523",
     "status": "completed"
    },
    "tags": []
   },
   "source": [
    "# 3.\n",
    "\n",
    "Now the researcher wants to supply multiple keywords to search for. Complete the function below to help her.\n",
    "\n",
    "(You're encouraged to use the `word_search` function you just wrote when implementing this function. Reusing code in this way makes your programs more robust and readable - and it saves typing!)"
   ]
  },
  {
   "cell_type": "code",
   "execution_count": 11,
   "id": "e9aaebc1",
   "metadata": {
    "execution": {
     "iopub.execute_input": "2022-11-14T22:15:07.846324Z",
     "iopub.status.busy": "2022-11-14T22:15:07.845919Z",
     "iopub.status.idle": "2022-11-14T22:15:07.857623Z",
     "shell.execute_reply": "2022-11-14T22:15:07.856592Z"
    },
    "papermill": {
     "duration": 0.022442,
     "end_time": "2022-11-14T22:15:07.859939",
     "exception": false,
     "start_time": "2022-11-14T22:15:07.837497",
     "status": "completed"
    },
    "tags": []
   },
   "outputs": [
    {
     "data": {
      "application/javascript": [
       "parent.postMessage({\"jupyterEvent\": \"custom.exercise_interaction\", \"data\": {\"outcomeType\": 1, \"valueTowardsCompletion\": 0.3333333333333333, \"interactionType\": 1, \"questionType\": 2, \"questionId\": \"3_MultiWordSearch\", \"learnToolsVersion\": \"0.3.4\", \"failureMessage\": \"\", \"exceptionClass\": \"\", \"trace\": \"\"}}, \"*\")"
      ],
      "text/plain": [
       "<IPython.core.display.Javascript object>"
      ]
     },
     "metadata": {},
     "output_type": "display_data"
    },
    {
     "data": {
      "text/markdown": [
       "<span style=\"color:#33cc33\">Correct</span>"
      ],
      "text/plain": [
       "Correct"
      ]
     },
     "metadata": {},
     "output_type": "display_data"
    }
   ],
   "source": [
    "def word_search(doc_list, keyword):\n",
    "    \"\"\"\n",
    "    Takes a list of documents (each document is a string) and a keyword. \n",
    "    Returns list of the index values into the original list for all documents \n",
    "    containing the keyword.\n",
    "\n",
    "    Example:\n",
    "    doc_list = [\"The Learn Python Challenge Casino.\", \"They bought a car\", \"Casinoville\"]\n",
    "    >>> word_search(doc_list, 'casino')\n",
    "    >>> [0]\n",
    "    \"\"\"\n",
    "    doc_index = []\n",
    "    for i, doc in enumerate(doc_list):\n",
    "        words = doc.split()       \n",
    "        normalized = [word.strip('.,').upper() for word in words]\n",
    "        if keyword.upper() in normalized:\n",
    "            doc_index.append(i)\n",
    "    return doc_index        \n",
    "def multi_word_search(doc_list, keywords):\n",
    "    \"\"\"\n",
    "    Takes list of documents (each document is a string) and a list of keywords.  \n",
    "    Returns a dictionary where each key is a keyword, and the value is a list of indices\n",
    "    (from doc_list) of the documents containing that keyword\n",
    "\n",
    "    >>> doc_list = [\"The Learn Python Challenge Casino.\", \"They bought a car and a casino\", \"Casinoville\"]\n",
    "    >>> keywords = ['casino', 'they']\n",
    "    >>> multi_word_search(doc_list, keywords)\n",
    "    {'casino': [0, 1], 'they': [1]}\n",
    "    \"\"\"    \n",
    "    doc_dictionay = { keyword: word_search(doc_list, keyword) for keyword in keywords }  \n",
    "    return doc_dictionay\n",
    "# Check your answer\n",
    "q3.check()"
   ]
  },
  {
   "cell_type": "code",
   "execution_count": 12,
   "id": "256b81e4",
   "metadata": {
    "execution": {
     "iopub.execute_input": "2022-11-14T22:15:07.876858Z",
     "iopub.status.busy": "2022-11-14T22:15:07.876428Z",
     "iopub.status.idle": "2022-11-14T22:15:07.886567Z",
     "shell.execute_reply": "2022-11-14T22:15:07.885485Z"
    },
    "papermill": {
     "duration": 0.021583,
     "end_time": "2022-11-14T22:15:07.888928",
     "exception": false,
     "start_time": "2022-11-14T22:15:07.867345",
     "status": "completed"
    },
    "tags": []
   },
   "outputs": [
    {
     "data": {
      "application/javascript": [
       "parent.postMessage({\"jupyterEvent\": \"custom.exercise_interaction\", \"data\": {\"interactionType\": 3, \"questionType\": 2, \"questionId\": \"3_MultiWordSearch\", \"learnToolsVersion\": \"0.3.4\", \"valueTowardsCompletion\": 0.0, \"failureMessage\": \"\", \"exceptionClass\": \"\", \"trace\": \"\", \"outcomeType\": 4}}, \"*\")"
      ],
      "text/plain": [
       "<IPython.core.display.Javascript object>"
      ]
     },
     "metadata": {},
     "output_type": "display_data"
    },
    {
     "data": {
      "text/markdown": [
       "<span style=\"color:#33cc99\">Solution:</span> \n",
       "```python\n",
       "def multi_word_search(documents, keywords):\n",
       "    keyword_to_indices = {}\n",
       "    for keyword in keywords:\n",
       "        keyword_to_indices[keyword] = word_search(documents, keyword)\n",
       "    return keyword_to_indices\n",
       "```"
      ],
      "text/plain": [
       "Solution: \n",
       "```python\n",
       "def multi_word_search(documents, keywords):\n",
       "    keyword_to_indices = {}\n",
       "    for keyword in keywords:\n",
       "        keyword_to_indices[keyword] = word_search(documents, keyword)\n",
       "    return keyword_to_indices\n",
       "```"
      ]
     },
     "metadata": {},
     "output_type": "display_data"
    }
   ],
   "source": [
    "q3.solution()"
   ]
  },
  {
   "cell_type": "markdown",
   "id": "d4a6405b",
   "metadata": {
    "papermill": {
     "duration": 0.007539,
     "end_time": "2022-11-14T22:15:07.904109",
     "exception": false,
     "start_time": "2022-11-14T22:15:07.896570",
     "status": "completed"
    },
    "tags": []
   },
   "source": [
    "# Keep Going\n",
    "\n",
    "You've learned a lot. But even the best programmers rely heavily on \"libraries\" of code from other programmers. You'll learn about that in **[the last lesson](https://www.kaggle.com/colinmorris/working-with-external-libraries)**.\n"
   ]
  },
  {
   "cell_type": "markdown",
   "id": "e52ab6b9",
   "metadata": {
    "papermill": {
     "duration": 0.00739,
     "end_time": "2022-11-14T22:15:07.919173",
     "exception": false,
     "start_time": "2022-11-14T22:15:07.911783",
     "status": "completed"
    },
    "tags": []
   },
   "source": [
    "---\n",
    "\n",
    "\n",
    "\n",
    "\n",
    "*Have questions or comments? Visit the [course discussion forum](https://www.kaggle.com/learn/python/discussion) to chat with other learners.*"
   ]
  }
 ],
 "metadata": {
  "kernelspec": {
   "display_name": "Python 3",
   "language": "python",
   "name": "python3"
  },
  "language_info": {
   "codemirror_mode": {
    "name": "ipython",
    "version": 3
   },
   "file_extension": ".py",
   "mimetype": "text/x-python",
   "name": "python",
   "nbconvert_exporter": "python",
   "pygments_lexer": "ipython3",
   "version": "3.7.12"
  },
  "papermill": {
   "default_parameters": {},
   "duration": 9.513183,
   "end_time": "2022-11-14T22:15:08.549424",
   "environment_variables": {},
   "exception": null,
   "input_path": "__notebook__.ipynb",
   "output_path": "__notebook__.ipynb",
   "parameters": {},
   "start_time": "2022-11-14T22:14:59.036241",
   "version": "2.3.4"
  }
 },
 "nbformat": 4,
 "nbformat_minor": 5
}
