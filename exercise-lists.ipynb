{
 "cells": [
  {
   "cell_type": "markdown",
   "id": "044ffe3e",
   "metadata": {
    "papermill": {
     "duration": 0.005763,
     "end_time": "2022-11-07T22:17:03.441174",
     "exception": false,
     "start_time": "2022-11-07T22:17:03.435411",
     "status": "completed"
    },
    "tags": []
   },
   "source": [
    "**This notebook is an exercise in the [Python](https://www.kaggle.com/learn/python) course.  You can reference the tutorial at [this link](https://www.kaggle.com/colinmorris/lists).**\n",
    "\n",
    "---\n"
   ]
  },
  {
   "cell_type": "markdown",
   "id": "4c48beb9",
   "metadata": {
    "papermill": {
     "duration": 0.004544,
     "end_time": "2022-11-07T22:17:03.450683",
     "exception": false,
     "start_time": "2022-11-07T22:17:03.446139",
     "status": "completed"
    },
    "tags": []
   },
   "source": [
    "Things get more interesting with lists. You'll apply your new knowledge to solve the questions below. Remember to run the following cell first."
   ]
  },
  {
   "cell_type": "code",
   "execution_count": 1,
   "id": "d18041fb",
   "metadata": {
    "execution": {
     "iopub.execute_input": "2022-11-07T22:17:03.461646Z",
     "iopub.status.busy": "2022-11-07T22:17:03.461121Z",
     "iopub.status.idle": "2022-11-07T22:17:03.509526Z",
     "shell.execute_reply": "2022-11-07T22:17:03.508453Z"
    },
    "papermill": {
     "duration": 0.058256,
     "end_time": "2022-11-07T22:17:03.513463",
     "exception": false,
     "start_time": "2022-11-07T22:17:03.455207",
     "status": "completed"
    },
    "tags": []
   },
   "outputs": [
    {
     "name": "stdout",
     "output_type": "stream",
     "text": [
      "Setup complete.\n"
     ]
    }
   ],
   "source": [
    "from learntools.core import binder; binder.bind(globals())\n",
    "from learntools.python.ex4 import *\n",
    "print('Setup complete.')"
   ]
  },
  {
   "cell_type": "markdown",
   "id": "dfa5d93e",
   "metadata": {
    "papermill": {
     "duration": 0.004459,
     "end_time": "2022-11-07T22:17:03.522761",
     "exception": false,
     "start_time": "2022-11-07T22:17:03.518302",
     "status": "completed"
    },
    "tags": []
   },
   "source": [
    "# 1.\n",
    "\n",
    "Complete the function below according to its docstring."
   ]
  },
  {
   "cell_type": "code",
   "execution_count": 2,
   "id": "2aaf990b",
   "metadata": {
    "execution": {
     "iopub.execute_input": "2022-11-07T22:17:03.534205Z",
     "iopub.status.busy": "2022-11-07T22:17:03.533496Z",
     "iopub.status.idle": "2022-11-07T22:17:03.545841Z",
     "shell.execute_reply": "2022-11-07T22:17:03.544660Z"
    },
    "papermill": {
     "duration": 0.020752,
     "end_time": "2022-11-07T22:17:03.548132",
     "exception": false,
     "start_time": "2022-11-07T22:17:03.527380",
     "status": "completed"
    },
    "tags": []
   },
   "outputs": [
    {
     "data": {
      "application/javascript": [
       "parent.postMessage({\"jupyterEvent\": \"custom.exercise_interaction\", \"data\": {\"outcomeType\": 1, \"valueTowardsCompletion\": 0.2, \"interactionType\": 1, \"questionType\": 2, \"questionId\": \"1_SelectSecondItem\", \"learnToolsVersion\": \"0.3.4\", \"failureMessage\": \"\", \"exceptionClass\": \"\", \"trace\": \"\"}}, \"*\")"
      ],
      "text/plain": [
       "<IPython.core.display.Javascript object>"
      ]
     },
     "metadata": {},
     "output_type": "display_data"
    },
    {
     "data": {
      "text/markdown": [
       "<span style=\"color:#33cc33\">Correct</span>"
      ],
      "text/plain": [
       "Correct"
      ]
     },
     "metadata": {},
     "output_type": "display_data"
    }
   ],
   "source": [
    "def select_second(L):\n",
    "    \"\"\"Return the second element of the given list. If the list has no second\n",
    "    element, return None.\n",
    "    \"\"\"\n",
    "    if len(L) < 2: return None\n",
    "    return L[1]\n",
    "\n",
    "# Check your answer\n",
    "q1.check()"
   ]
  },
  {
   "cell_type": "code",
   "execution_count": 3,
   "id": "5a556d99",
   "metadata": {
    "execution": {
     "iopub.execute_input": "2022-11-07T22:17:03.560110Z",
     "iopub.status.busy": "2022-11-07T22:17:03.559359Z",
     "iopub.status.idle": "2022-11-07T22:17:03.563867Z",
     "shell.execute_reply": "2022-11-07T22:17:03.562878Z"
    },
    "papermill": {
     "duration": 0.012957,
     "end_time": "2022-11-07T22:17:03.566030",
     "exception": false,
     "start_time": "2022-11-07T22:17:03.553073",
     "status": "completed"
    },
    "tags": []
   },
   "outputs": [],
   "source": [
    "#q1.hint()\n",
    "#q1.solution()"
   ]
  },
  {
   "cell_type": "markdown",
   "id": "a03860fc",
   "metadata": {
    "papermill": {
     "duration": 0.004865,
     "end_time": "2022-11-07T22:17:03.575953",
     "exception": false,
     "start_time": "2022-11-07T22:17:03.571088",
     "status": "completed"
    },
    "tags": []
   },
   "source": [
    "# 2.\n",
    "\n",
    "You are analyzing sports teams.  Members of each team are stored in a list. The Coach is the first name in the list, the captain is the second name in the list, and other players are listed after that. \n",
    "These lists are stored in another list, which starts with the best team and proceeds through the list to the worst team last.  Complete the function below to select the **captain** of the worst team."
   ]
  },
  {
   "cell_type": "code",
   "execution_count": 4,
   "id": "57688dad",
   "metadata": {
    "execution": {
     "iopub.execute_input": "2022-11-07T22:17:03.587754Z",
     "iopub.status.busy": "2022-11-07T22:17:03.587322Z",
     "iopub.status.idle": "2022-11-07T22:17:03.596440Z",
     "shell.execute_reply": "2022-11-07T22:17:03.595331Z"
    },
    "papermill": {
     "duration": 0.018287,
     "end_time": "2022-11-07T22:17:03.599153",
     "exception": false,
     "start_time": "2022-11-07T22:17:03.580866",
     "status": "completed"
    },
    "tags": []
   },
   "outputs": [
    {
     "data": {
      "application/javascript": [
       "parent.postMessage({\"jupyterEvent\": \"custom.exercise_interaction\", \"data\": {\"outcomeType\": 1, \"valueTowardsCompletion\": 0.2, \"interactionType\": 1, \"questionType\": 2, \"questionId\": \"2_LosingTeamCaptain\", \"learnToolsVersion\": \"0.3.4\", \"failureMessage\": \"\", \"exceptionClass\": \"\", \"trace\": \"\"}}, \"*\")"
      ],
      "text/plain": [
       "<IPython.core.display.Javascript object>"
      ]
     },
     "metadata": {},
     "output_type": "display_data"
    },
    {
     "data": {
      "text/markdown": [
       "<span style=\"color:#33cc33\">Correct</span>"
      ],
      "text/plain": [
       "Correct"
      ]
     },
     "metadata": {},
     "output_type": "display_data"
    }
   ],
   "source": [
    "def losing_team_captain(teams):\n",
    "    \"\"\"Given a list of teams, where each team is a list of names, return the 2nd player (captain)\n",
    "    from the last listed team\n",
    "    \"\"\"\n",
    "    return teams[-1][1]\n",
    "\n",
    "# Check your answer\n",
    "q2.check()"
   ]
  },
  {
   "cell_type": "code",
   "execution_count": 5,
   "id": "3148db96",
   "metadata": {
    "execution": {
     "iopub.execute_input": "2022-11-07T22:17:03.614927Z",
     "iopub.status.busy": "2022-11-07T22:17:03.614131Z",
     "iopub.status.idle": "2022-11-07T22:17:03.618130Z",
     "shell.execute_reply": "2022-11-07T22:17:03.617274Z"
    },
    "papermill": {
     "duration": 0.015747,
     "end_time": "2022-11-07T22:17:03.620252",
     "exception": false,
     "start_time": "2022-11-07T22:17:03.604505",
     "status": "completed"
    },
    "tags": []
   },
   "outputs": [],
   "source": [
    "#q2.hint()\n",
    "#q2.solution()"
   ]
  },
  {
   "cell_type": "markdown",
   "id": "65d1db5c",
   "metadata": {
    "papermill": {
     "duration": 0.0052,
     "end_time": "2022-11-07T22:17:03.630827",
     "exception": false,
     "start_time": "2022-11-07T22:17:03.625627",
     "status": "completed"
    },
    "tags": []
   },
   "source": [
    "# 3.\n",
    "\n",
    "The next iteration of Mario Kart will feature an extra-infuriating new item, the *Purple Shell*. When used, it warps the last place racer into first place and the first place racer into last place. Complete the function below to implement the Purple Shell's effect."
   ]
  },
  {
   "cell_type": "code",
   "execution_count": 6,
   "id": "1e746c6f",
   "metadata": {
    "execution": {
     "iopub.execute_input": "2022-11-07T22:17:03.645509Z",
     "iopub.status.busy": "2022-11-07T22:17:03.644756Z",
     "iopub.status.idle": "2022-11-07T22:17:03.652879Z",
     "shell.execute_reply": "2022-11-07T22:17:03.652144Z"
    },
    "papermill": {
     "duration": 0.017108,
     "end_time": "2022-11-07T22:17:03.654810",
     "exception": false,
     "start_time": "2022-11-07T22:17:03.637702",
     "status": "completed"
    },
    "tags": []
   },
   "outputs": [
    {
     "data": {
      "application/javascript": [
       "parent.postMessage({\"jupyterEvent\": \"custom.exercise_interaction\", \"data\": {\"outcomeType\": 1, \"valueTowardsCompletion\": 0.2, \"interactionType\": 1, \"questionType\": 2, \"questionId\": \"3_PurpleShell\", \"learnToolsVersion\": \"0.3.4\", \"failureMessage\": \"\", \"exceptionClass\": \"\", \"trace\": \"\"}}, \"*\")"
      ],
      "text/plain": [
       "<IPython.core.display.Javascript object>"
      ]
     },
     "metadata": {},
     "output_type": "display_data"
    },
    {
     "data": {
      "text/markdown": [
       "<span style=\"color:#33cc33\">Correct</span>"
      ],
      "text/plain": [
       "Correct"
      ]
     },
     "metadata": {},
     "output_type": "display_data"
    }
   ],
   "source": [
    "def purple_shell(racers):\n",
    "    \"\"\"Given a list of racers, set the first place racer (at the front of the list) to last\n",
    "    place and vice versa.\n",
    "    \n",
    "    >>> r = [\"Mario\", \"Bowser\", \"Luigi\"]\n",
    "    >>> purple_shell(r)\n",
    "    >>> r\n",
    "    [\"Luigi\", \"Bowser\", \"Mario\"]\n",
    "    \"\"\"\n",
    "    racers[0], racers[-1] = racers[-1], racers[0] \n",
    "\n",
    "# Check your answer\n",
    "q3.check()"
   ]
  },
  {
   "cell_type": "code",
   "execution_count": 7,
   "id": "d10a79b8",
   "metadata": {
    "execution": {
     "iopub.execute_input": "2022-11-07T22:17:03.668277Z",
     "iopub.status.busy": "2022-11-07T22:17:03.667566Z",
     "iopub.status.idle": "2022-11-07T22:17:03.671215Z",
     "shell.execute_reply": "2022-11-07T22:17:03.670482Z"
    },
    "papermill": {
     "duration": 0.012988,
     "end_time": "2022-11-07T22:17:03.673545",
     "exception": false,
     "start_time": "2022-11-07T22:17:03.660557",
     "status": "completed"
    },
    "tags": []
   },
   "outputs": [],
   "source": [
    "#q3.hint()\n",
    "#q3.solution()"
   ]
  },
  {
   "cell_type": "markdown",
   "id": "50fd0c3d",
   "metadata": {
    "papermill": {
     "duration": 0.005219,
     "end_time": "2022-11-07T22:17:03.684237",
     "exception": false,
     "start_time": "2022-11-07T22:17:03.679018",
     "status": "completed"
    },
    "tags": []
   },
   "source": [
    "# 4.\n",
    "\n",
    "What are the lengths of the following lists? Fill in the variable `lengths` with your predictions. (Try to make a prediction for each list *without* just calling `len()` on it.)"
   ]
  },
  {
   "cell_type": "code",
   "execution_count": 8,
   "id": "848dc09f",
   "metadata": {
    "execution": {
     "iopub.execute_input": "2022-11-07T22:17:03.696426Z",
     "iopub.status.busy": "2022-11-07T22:17:03.696015Z",
     "iopub.status.idle": "2022-11-07T22:17:03.705714Z",
     "shell.execute_reply": "2022-11-07T22:17:03.704625Z"
    },
    "papermill": {
     "duration": 0.018476,
     "end_time": "2022-11-07T22:17:03.708105",
     "exception": false,
     "start_time": "2022-11-07T22:17:03.689629",
     "status": "completed"
    },
    "tags": []
   },
   "outputs": [
    {
     "data": {
      "application/javascript": [
       "parent.postMessage({\"jupyterEvent\": \"custom.exercise_interaction\", \"data\": {\"outcomeType\": 1, \"valueTowardsCompletion\": 0.2, \"interactionType\": 1, \"questionType\": 1, \"questionId\": \"4_UnderstandLen\", \"learnToolsVersion\": \"0.3.4\", \"failureMessage\": \"\", \"exceptionClass\": \"\", \"trace\": \"\"}}, \"*\")"
      ],
      "text/plain": [
       "<IPython.core.display.Javascript object>"
      ]
     },
     "metadata": {},
     "output_type": "display_data"
    },
    {
     "data": {
      "text/markdown": [
       "<span style=\"color:#33cc33\">Correct:</span> \n",
       "\n",
       "\n",
       "- a: There are three items in this list. Nothing tricky yet.\n",
       "- b: The list `[2, 3]` counts as a single item. It has one item before it. So we have 2 items in the list\n",
       "- c: The empty list has 0 items\n",
       "- d: The expression is the same as the list `[2, 3]`, which has length 2."
      ],
      "text/plain": [
       "Correct: \n",
       "\n",
       "\n",
       "- a: There are three items in this list. Nothing tricky yet.\n",
       "- b: The list `[2, 3]` counts as a single item. It has one item before it. So we have 2 items in the list\n",
       "- c: The empty list has 0 items\n",
       "- d: The expression is the same as the list `[2, 3]`, which has length 2."
      ]
     },
     "metadata": {},
     "output_type": "display_data"
    }
   ],
   "source": [
    "a = [1, 2, 3]\n",
    "b = [1, [2, 3]]\n",
    "c = []\n",
    "d = [1, 2, 3][1:]\n",
    "\n",
    "# Put your predictions in the list below. Lengths should contain 4 numbers, the\n",
    "# first being the length of a, the second being the length of b and so on.\n",
    "lengths = [3,2,0,2]\n",
    "\n",
    "# Check your answer\n",
    "q4.check()"
   ]
  },
  {
   "cell_type": "code",
   "execution_count": 9,
   "id": "20a84ae5",
   "metadata": {
    "execution": {
     "iopub.execute_input": "2022-11-07T22:17:03.721307Z",
     "iopub.status.busy": "2022-11-07T22:17:03.720897Z",
     "iopub.status.idle": "2022-11-07T22:17:03.726051Z",
     "shell.execute_reply": "2022-11-07T22:17:03.724971Z"
    },
    "papermill": {
     "duration": 0.014237,
     "end_time": "2022-11-07T22:17:03.728223",
     "exception": false,
     "start_time": "2022-11-07T22:17:03.713986",
     "status": "completed"
    },
    "tags": []
   },
   "outputs": [],
   "source": [
    "# line below provides some explanation\n",
    "#q4.solution()"
   ]
  },
  {
   "cell_type": "markdown",
   "id": "34d1d0bd",
   "metadata": {
    "papermill": {
     "duration": 0.005475,
     "end_time": "2022-11-07T22:17:03.739329",
     "exception": false,
     "start_time": "2022-11-07T22:17:03.733854",
     "status": "completed"
    },
    "tags": []
   },
   "source": [
    "# 5. <span title=\"A bit spicy\" style=\"color: darkgreen \">🌶️</span>\n",
    "\n",
    "We're using lists to record people who attended our party and what order they arrived in. For example, the following list represents a party with 7 guests, in which Adela showed up first and Ford was the last to arrive:\n",
    "\n",
    "    party_attendees = ['Adela', 'Fleda', 'Owen', 'May', 'Mona', 'Gilbert', 'Ford']\n",
    "\n",
    "A guest is considered 'fashionably late' if they arrived after at least half of the party's guests. However, they must not be the very last guest (that's taking it too far). In the above example, Mona and Gilbert are the only guests who were fashionably late.\n",
    "\n",
    "Complete the function below which takes a list of party attendees as well as a person, and tells us whether that person is fashionably late."
   ]
  },
  {
   "cell_type": "code",
   "execution_count": 10,
   "id": "9e53924b",
   "metadata": {
    "execution": {
     "iopub.execute_input": "2022-11-07T22:17:03.752131Z",
     "iopub.status.busy": "2022-11-07T22:17:03.751760Z",
     "iopub.status.idle": "2022-11-07T22:17:03.761886Z",
     "shell.execute_reply": "2022-11-07T22:17:03.760772Z"
    },
    "papermill": {
     "duration": 0.019093,
     "end_time": "2022-11-07T22:17:03.764048",
     "exception": false,
     "start_time": "2022-11-07T22:17:03.744955",
     "status": "completed"
    },
    "tags": []
   },
   "outputs": [
    {
     "data": {
      "application/javascript": [
       "parent.postMessage({\"jupyterEvent\": \"custom.exercise_interaction\", \"data\": {\"outcomeType\": 1, \"valueTowardsCompletion\": 0.2, \"interactionType\": 1, \"questionType\": 2, \"questionId\": \"5_FashionablyLate\", \"learnToolsVersion\": \"0.3.4\", \"failureMessage\": \"\", \"exceptionClass\": \"\", \"trace\": \"\"}}, \"*\")"
      ],
      "text/plain": [
       "<IPython.core.display.Javascript object>"
      ]
     },
     "metadata": {},
     "output_type": "display_data"
    },
    {
     "data": {
      "text/markdown": [
       "<span style=\"color:#33cc33\">Correct</span>"
      ],
      "text/plain": [
       "Correct"
      ]
     },
     "metadata": {},
     "output_type": "display_data"
    }
   ],
   "source": [
    "def fashionably_late(arrivals, name):\n",
    "    \"\"\"Given an ordered list of arrivals to the party and a name, return whether the guest with that\n",
    "    name was fashionably late.\n",
    "    \"\"\"\n",
    "    if name in arrivals:\n",
    "        if (arrivals.index(name) >= len (arrivals)/2) and (arrivals.index(name) != len(arrivals)-1):\n",
    "            return True\n",
    "    return False\n",
    "\n",
    "# Check your answer\n",
    "q5.check()"
   ]
  },
  {
   "cell_type": "code",
   "execution_count": 11,
   "id": "ddff8e99",
   "metadata": {
    "execution": {
     "iopub.execute_input": "2022-11-07T22:17:03.777353Z",
     "iopub.status.busy": "2022-11-07T22:17:03.776991Z",
     "iopub.status.idle": "2022-11-07T22:17:03.787669Z",
     "shell.execute_reply": "2022-11-07T22:17:03.786779Z"
    },
    "papermill": {
     "duration": 0.019854,
     "end_time": "2022-11-07T22:17:03.789714",
     "exception": false,
     "start_time": "2022-11-07T22:17:03.769860",
     "status": "completed"
    },
    "tags": []
   },
   "outputs": [
    {
     "data": {
      "application/javascript": [
       "parent.postMessage({\"jupyterEvent\": \"custom.exercise_interaction\", \"data\": {\"interactionType\": 2, \"questionType\": 2, \"questionId\": \"5_FashionablyLate\", \"learnToolsVersion\": \"0.3.4\", \"valueTowardsCompletion\": 0.0, \"failureMessage\": \"\", \"exceptionClass\": \"\", \"trace\": \"\", \"outcomeType\": 4}}, \"*\")"
      ],
      "text/plain": [
       "<IPython.core.display.Javascript object>"
      ]
     },
     "metadata": {},
     "output_type": "display_data"
    },
    {
     "data": {
      "text/markdown": [
       "<span style=\"color:#3366cc\">Hint:</span> Use the index method to find when the person arrived. Check whether that is a fashionably late spot given the list length (`len`). Think about 0-indexing"
      ],
      "text/plain": [
       "Hint: Use the index method to find when the person arrived. Check whether that is a fashionably late spot given the list length (`len`). Think about 0-indexing"
      ]
     },
     "metadata": {},
     "output_type": "display_data"
    },
    {
     "data": {
      "application/javascript": [
       "parent.postMessage({\"jupyterEvent\": \"custom.exercise_interaction\", \"data\": {\"interactionType\": 3, \"questionType\": 2, \"questionId\": \"5_FashionablyLate\", \"learnToolsVersion\": \"0.3.4\", \"valueTowardsCompletion\": 0.0, \"failureMessage\": \"\", \"exceptionClass\": \"\", \"trace\": \"\", \"outcomeType\": 4}}, \"*\")"
      ],
      "text/plain": [
       "<IPython.core.display.Javascript object>"
      ]
     },
     "metadata": {},
     "output_type": "display_data"
    },
    {
     "data": {
      "text/markdown": [
       "<span style=\"color:#33cc99\">Solution:</span> \n",
       "```python\n",
       "def fashionably_late(arrivals, name):\n",
       "    order = arrivals.index(name)\n",
       "    return order >= len(arrivals) / 2 and order != len(arrivals) - 1\n",
       "```"
      ],
      "text/plain": [
       "Solution: \n",
       "```python\n",
       "def fashionably_late(arrivals, name):\n",
       "    order = arrivals.index(name)\n",
       "    return order >= len(arrivals) / 2 and order != len(arrivals) - 1\n",
       "```"
      ]
     },
     "metadata": {},
     "output_type": "display_data"
    }
   ],
   "source": [
    "q5.hint()\n",
    "q5.solution()"
   ]
  },
  {
   "cell_type": "markdown",
   "id": "dabb224d",
   "metadata": {
    "papermill": {
     "duration": 0.006066,
     "end_time": "2022-11-07T22:17:03.801978",
     "exception": false,
     "start_time": "2022-11-07T22:17:03.795912",
     "status": "completed"
    },
    "tags": []
   },
   "source": [
    "# Keep Going\n",
    "\n",
    "That's it for lists and tuples! Now you have the baseline knowledge to **[learn about loops](https://www.kaggle.com/colinmorris/loops-and-list-comprehensions)**, which is where lists and tuples get really interesting. "
   ]
  },
  {
   "cell_type": "markdown",
   "id": "5df78e89",
   "metadata": {
    "papermill": {
     "duration": 0.006165,
     "end_time": "2022-11-07T22:17:03.815068",
     "exception": false,
     "start_time": "2022-11-07T22:17:03.808903",
     "status": "completed"
    },
    "tags": []
   },
   "source": [
    "---\n",
    "\n",
    "\n",
    "\n",
    "\n",
    "*Have questions or comments? Visit the [course discussion forum](https://www.kaggle.com/learn/python/discussion) to chat with other learners.*"
   ]
  }
 ],
 "metadata": {
  "kernelspec": {
   "display_name": "Python 3",
   "language": "python",
   "name": "python3"
  },
  "language_info": {
   "codemirror_mode": {
    "name": "ipython",
    "version": 3
   },
   "file_extension": ".py",
   "mimetype": "text/x-python",
   "name": "python",
   "nbconvert_exporter": "python",
   "pygments_lexer": "ipython3",
   "version": "3.7.12"
  },
  "papermill": {
   "default_parameters": {},
   "duration": 9.088979,
   "end_time": "2022-11-07T22:17:04.440983",
   "environment_variables": {},
   "exception": null,
   "input_path": "__notebook__.ipynb",
   "output_path": "__notebook__.ipynb",
   "parameters": {},
   "start_time": "2022-11-07T22:16:55.352004",
   "version": "2.3.4"
  }
 },
 "nbformat": 4,
 "nbformat_minor": 5
}
